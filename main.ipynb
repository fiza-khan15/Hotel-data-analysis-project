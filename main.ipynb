{
 "cells": [
  {
   "cell_type": "code",
   "execution_count": null,
   "id": "4faa6c1b-541a-45ae-bc14-31cef104ee3e",
   "metadata": {},
   "outputs": [],
   "source": [
    "# importing libraries "
   ]
  },
  {
   "cell_type": "code",
   "execution_count": null,
   "id": "33d8375c-a591-4aff-b2e9-194efd76ed1a",
   "metadata": {},
   "outputs": [],
   "source": [
    "import pandas as pd\n",
    "import matplotlib.pyplot as plt\n",
    "import seaborn as sns\n",
    "import warnings \n",
    "warnings.filterwarnings('ignore')"
   ]
  },
  {
   "cell_type": "code",
   "execution_count": null,
   "id": "e5f9f97b-420f-4410-b19d-ae92c6667723",
   "metadata": {},
   "outputs": [],
   "source": [
    "df = pd.read_csv('C:\\\\Users\\\\LENOVO\\\\Downloads\\\\hotel_bookings 2.csv')"
   ]
  },
  {
   "cell_type": "code",
   "execution_count": null,
   "id": "7993fad3-1470-4060-9d93-a5b1b9a03b71",
   "metadata": {},
   "outputs": [],
   "source": [
    "# Exploratory Data"
   ]
  },
  {
   "cell_type": "code",
   "execution_count": null,
   "id": "0c0df5d2-2e6d-4edc-a863-6b0f33889007",
   "metadata": {},
   "outputs": [],
   "source": [
    "df.head()"
   ]
  },
  {
   "cell_type": "code",
   "execution_count": null,
   "id": "307c77c0-2b5a-42e1-8f76-1b75acb678c7",
   "metadata": {},
   "outputs": [],
   "source": [
    "df.tail()"
   ]
  },
  {
   "cell_type": "code",
   "execution_count": null,
   "id": "ab004cf9-5f7b-4961-b438-48e27227cb86",
   "metadata": {},
   "outputs": [],
   "source": [
    "#Now we have to see how many numbers of rows and coloumns are in the dataframe "
   ]
  },
  {
   "cell_type": "code",
   "execution_count": null,
   "id": "b61ac17c-67cc-48ad-abe6-ebd194447201",
   "metadata": {},
   "outputs": [],
   "source": [
    "df.shape"
   ]
  },
  {
   "cell_type": "code",
   "execution_count": null,
   "id": "340f92ea-fc41-425c-ae54-e848578504d2",
   "metadata": {},
   "outputs": [],
   "source": [
    "df.columns"
   ]
  },
  {
   "cell_type": "code",
   "execution_count": null,
   "id": "47d3e9a5-bbb0-44f9-b154-b3637e17774c",
   "metadata": {},
   "outputs": [],
   "source": [
    "df.info()"
   ]
  },
  {
   "cell_type": "code",
   "execution_count": null,
   "id": "7345870d-cc7d-47e6-ad17-c010070b93f6",
   "metadata": {},
   "outputs": [],
   "source": [
    "# To change reservation dtype into date time"
   ]
  },
  {
   "cell_type": "code",
   "execution_count": null,
   "id": "1a7beadf-5042-4442-b05e-f647b10d14be",
   "metadata": {},
   "outputs": [],
   "source": [
    "df['reservation_status_date'] = pd.to_datetime(df['reservation_status_date'],format = '%y-%m-%d', errors='coerce')"
   ]
  },
  {
   "cell_type": "code",
   "execution_count": null,
   "id": "772ff95f-02f9-4068-95dd-bef5582eddcd",
   "metadata": {},
   "outputs": [],
   "source": [
    "# object datatype is nothing but categorical columns in which we can see in which categorical columns how many categorical values are their."
   ]
  },
  {
   "cell_type": "code",
   "execution_count": null,
   "id": "7f6dc620-ea04-42d8-94d3-b9d4b0868028",
   "metadata": {},
   "outputs": [],
   "source": [
    "df.describe(include = 'object')"
   ]
  },
  {
   "cell_type": "code",
   "execution_count": null,
   "id": "e77e6d52-ae57-4cbb-9594-d1be79d68086",
   "metadata": {},
   "outputs": [],
   "source": [
    "for col in df.describe(include = 'object').columns:\n",
    "    print(col)\n",
    "    print(df[col].unique())\n",
    "    print('-'*50)"
   ]
  },
  {
   "cell_type": "code",
   "execution_count": null,
   "id": "b3fddd73-9e7f-41d1-9a37-5110ce21e1f7",
   "metadata": {},
   "outputs": [],
   "source": [
    "#Now cheack the missing values."
   ]
  },
  {
   "cell_type": "code",
   "execution_count": null,
   "id": "2fdf37fd-8050-460e-a1ac-e226509d82fd",
   "metadata": {},
   "outputs": [],
   "source": [
    "df.isnull().sum()"
   ]
  },
  {
   "cell_type": "code",
   "execution_count": null,
   "id": "ba258d08-bb1e-4dad-b407-169929d444e2",
   "metadata": {},
   "outputs": [],
   "source": [
    "df.drop(['company','agent'], axis = 1, inplace = True)"
   ]
  },
  {
   "cell_type": "code",
   "execution_count": null,
   "id": "c0af4b76-0a2e-4c32-bc21-fe643011d52f",
   "metadata": {},
   "outputs": [],
   "source": [
    "df.dropna(inplace = True)"
   ]
  },
  {
   "cell_type": "code",
   "execution_count": null,
   "id": "3b38158d-9f41-452b-a02f-b90e23e84757",
   "metadata": {},
   "outputs": [],
   "source": [
    "df.isnull().sum()"
   ]
  },
  {
   "cell_type": "code",
   "execution_count": null,
   "id": "508b31d0-e25a-498a-b6b5-42553b1ba6ca",
   "metadata": {},
   "outputs": [],
   "source": [
    "# Now for calculating some statistical data we use df.describe"
   ]
  },
  {
   "cell_type": "code",
   "execution_count": null,
   "id": "c7f8f7b1-d0a9-4c0f-b516-34c7e804383c",
   "metadata": {},
   "outputs": [],
   "source": [
    "df.describe()"
   ]
  },
  {
   "cell_type": "code",
   "execution_count": null,
   "id": "3a39228e-231f-41dc-9867-dcee30949fce",
   "metadata": {},
   "outputs": [],
   "source": [
    "df['adr'].plot(kind = 'box')"
   ]
  },
  {
   "cell_type": "code",
   "execution_count": null,
   "id": "471f060c-3cf0-4c20-b9a0-6f11e53ea172",
   "metadata": {},
   "outputs": [],
   "source": [
    "df = [df['adr']<5000]"
   ]
  },
  {
   "cell_type": "code",
   "execution_count": null,
   "id": "b7d62d12-ab82-4db5-a44a-65e956ba7961",
   "metadata": {},
   "outputs": [],
   "source": [
    "#df.describe()"
   ]
  },
  {
   "cell_type": "code",
   "execution_count": null,
   "id": "9e246a03-5c1d-4182-a7d1-52f2703c34f3",
   "metadata": {},
   "outputs": [],
   "source": [
    "#data analysis"
   ]
  },
  {
   "cell_type": "code",
   "execution_count": null,
   "id": "5bbc8755-2f05-4fca-a06e-ce94d8c85afb",
   "metadata": {},
   "outputs": [],
   "source": [
    "#how much amount where cancelled in reservation and how much not."
   ]
  },
  {
   "cell_type": "code",
   "execution_count": null,
   "id": "7740df47-359d-428d-b72c-03e8426d95ac",
   "metadata": {},
   "outputs": [],
   "source": [
    "cancelled_perc = df['is_canceled'].value_counts(normalize = True)\n",
    "print(cancelled_perc)\n",
    "\n",
    "plt.figure(figsize = (5,4))\n",
    "plt.title('reservation status count')\n",
    "plt.bar(['Not canceled','Canceled'], df['is_canceled'].value_counts(),edgecolor = 'k' , width = 0.7)\n",
    "plt.show()"
   ]
  },
  {
   "cell_type": "code",
   "execution_count": null,
   "id": "6d528a0b-5f42-4a30-ad4e-28a729a5f3b8",
   "metadata": {},
   "outputs": [],
   "source": [
    "#Having error in the code because of numeric data type\n",
    "if not isinstance(df,pd.DataFrame) or 'hotel' not in df.columns or 'is_canceled'not in df.columns:\n",
    "    print(\"Error:Invalid data type or column name in df\")\n",
    "    exit()"
   ]
  },
  {
   "cell_type": "code",
   "execution_count": null,
   "id": "6e711f09-ce82-42a8-ba6f-2e3d278a7c39",
   "metadata": {},
   "outputs": [],
   "source": [
    "df['hotel'] = df['hotel'].astype(str)  # Convert 'hotel' column to string type\n",
    "df['is_canceled'] = df['is_canceled'].astype(str)  # Convert 'is_canceled' column to string type\n"
   ]
  },
  {
   "cell_type": "code",
   "execution_count": null,
   "id": "dd42037d-da57-494a-a9ad-76d0ca9097ab",
   "metadata": {},
   "outputs": [],
   "source": [
    "plt.figure(figsize=(8, 4))\n",
    "ax1 = sns.countplot(x='hotel', hue='is_canceled', data=df, palette='Blues')\n",
    "plt.title('Reservation status in different hotels', size=20)\n",
    "plt.xlabel('Hotel')\n",
    "plt.ylabel('Number of reservations')\n",
    "ax1.legend(title='Reservation Status', bbox_to_anchor=(1, 1), loc='upper left')\n",
    "plt.show()\n"
   ]
  },
  {
   "cell_type": "code",
   "execution_count": null,
   "id": "e18b3aa6-f130-43d4-aed1-ac77db32d22c",
   "metadata": {},
   "outputs": [],
   "source": [
    "#will see how many percentage of reservation is cancelled or how many not cancelled out of total.\n",
    "\n",
    "resort_hotels = df[df['hotel'] == 'Resort hotel']\n",
    "resort_hotels ['is_canceled'].value_counts(normalize = True)"
   ]
  },
  {
   "cell_type": "code",
   "execution_count": null,
   "id": "1f9caf1b-44be-4643-a583-30e9bc0ac602",
   "metadata": {},
   "outputs": [],
   "source": [
    "city_hotels = df[df['hotel'] == 'city hotel']\n",
    "city_hotels ['is_canceled'].value_counts(normalize = True)       "
   ]
  },
  {
   "cell_type": "code",
   "execution_count": null,
   "id": "5813bebb-5e90-44c8-adfc-4fd997d1188c",
   "metadata": {},
   "outputs": [],
   "source": [
    "resort_hotels = resort_hotels.groupby('reservation_status_date')[['adr']].mean()\n",
    "city_hotels = city_hotels.groupby('reservation_status_date')[['adr']].mean() "
   ]
  },
  {
   "cell_type": "code",
   "execution_count": null,
   "id": "8f19ef78-e179-49a1-99a9-9f399e5b51aa",
   "metadata": {},
   "outputs": [],
   "source": [
    "plt.figure(figsize = (20,8))\n",
    "plt.title('Average Daily Rate in City and Resort Hotel',fontsize = 30)\n",
    "plt.plot(resort_hotels.index,resort_hotels['adr'], label = 'Resort Hotel')\n",
    "plt.plot(city_hotels.index,city_hotels['adr'], label = 'city hotels')\n",
    "plt.legend(fontsize = 20)\n",
    "plt.show()"
   ]
  },
  {
   "cell_type": "code",
   "execution_count": null,
   "id": "ca676681-cee0-4ef6-a3c2-eb5d7ac6cfd4",
   "metadata": {},
   "outputs": [],
   "source": [
    "# Assuming df is your DataFrame\n",
    "# Ensure 'reservation_status_date' is in datetime format\n",
    "df['reservation_status_date'] = pd.to_datetime(df['reservation_status_date'], errors='coerce')\n",
    "\n",
    "# Extract month from 'reservation_status_date'\n",
    "df['month'] = df['reservation_status_date'].dt.month\n",
    "\n",
    "# Ensure 'is_canceled' column has only valid values (0 and 1)\n",
    "df = df[df['is_canceled'].isin([0, 1])]\n",
    "\n",
    "# Drop rows with NaN values in 'month' or 'is_canceled'\n",
    "df = df.dropna(subset=['month', 'is_canceled'])\n",
    "\n",
    "# Ensure 'month' and 'is_canceled' are numeric\n",
    "df['month'] = df['month'].astype(int)\n",
    "df['is_canceled'] = df['is_canceled'].astype(int)\n",
    "\n",
    "# Debugging: Print the DataFrame information\n",
    "print(\"DataFrame after processing:\")\n",
    "print(df.info())\n",
    "print(df.head())\n",
    "\n",
    "# Check if DataFrame is empty after filtering\n",
    "if df.empty:\n",
    "    raise ValueError(\"The DataFrame is empty after filtering. Please check your data.\")\n",
    "\n",
    "# Additional debugging: Check unique values in 'month' and 'is_canceled' columns\n",
    "print(\"Unique values in 'month':\", df['month'].unique())\n",
    "print(\"Unique values in 'is_canceled':\", df['is_canceled'].unique())\n",
    "\n",
    "# Check the data types of the columns\n",
    "print(\"Data types of the columns:\")\n",
    "print(df.dtypes)\n",
    "\n"
   ]
  },
  {
   "cell_type": "code",
   "execution_count": null,
   "id": "57aa1514-cec9-4841-a6aa-523de4d8785e",
   "metadata": {},
   "outputs": [],
   "source": [
    "# Plotting\n",
    "plt.figure(figsize=(16, 8))\n",
    "try:\n",
    "    ax1 = sns.countplot(x='month', hue='is_canceled', data=df, palette='bright')\n",
    "    legend_labels, _ = ax1.get_legend_handles_labels()\n",
    "    ax1.legend(bbox_to_anchor=(1, 1))\n",
    "    plt.title('Reservation status per month', size=20)\n",
    "    plt.xlabel('Month')\n",
    "    plt.ylabel('Number of reservations')\n",
    "    plt.legend(['not canceled', 'canceled'])\n",
    "    plt.show()\n",
    "except AttributeError as e:\n",
    "    print(\"AttributeError:\", e)\n",
    "    print(\"This error might occur if there are unexpected data types in the DataFrame.\")\n",
    "except Exception as e:\n",
    "    print(\"An unexpected error occurred:\", e)\n"
   ]
  },
  {
   "cell_type": "code",
   "execution_count": null,
   "id": "c6a79106-bc5b-47c5-b198-cdce4437d05a",
   "metadata": {},
   "outputs": [],
   "source": [
    "# Sample data preparation (assuming your DataFrame is named df and loaded properly)\n",
    "# Ensure 'reservation_status_date' is in datetime format\n",
    "df['reservation_status_date'] = pd.to_datetime(df['reservation_status_date'], errors='coerce')\n",
    "\n",
    "# Extract month from 'reservation_status_date'\n",
    "df['month'] = df['reservation_status_date'].dt.month\n",
    "\n",
    "# Ensure 'is_canceled' column has only valid values (0 and 1)\n",
    "df = df[df['is_canceled'].isin([0, 1])]\n",
    "\n",
    "# Drop rows with NaN values in 'month' or 'is_canceled'\n",
    "df = df.dropna(subset=['month', 'is_canceled', 'adr'])\n",
    "\n",
    "# Ensure 'month' and 'is_canceled' are numeric\n",
    "df['month'] = df['month'].astype(int)\n",
    "df['is_canceled'] = df['is_canceled'].astype(int)\n",
    "\n",
    "# Debugging: Print the DataFrame information\n",
    "print(\"DataFrame after processing:\")\n",
    "print(df.info())\n",
    "print(df.head())\n",
    "\n",
    "# Check if DataFrame is empty after filtering\n",
    "if df.empty:\n",
    "    raise ValueError(\"The DataFrame is empty after filtering. Please check your data.\")\n",
    "\n",
    "# Filter data for canceled reservations\n",
    "canceled_data = df[df['is_canceled'] == 1]\n",
    "\n",
    "# Debugging: Check the data\n",
    "print(\"Canceled Data:\")\n",
    "print(canceled_data.head())\n",
    "\n",
    "\n"
   ]
  },
  {
   "cell_type": "code",
   "execution_count": null,
   "id": "bfd9107d-aee5-4cca-92bc-e0103003a64e",
   "metadata": {},
   "outputs": [],
   "source": [
    "# Plotting ADR per month for canceled reservations\n",
    "plt.figure(figsize=(15, 8))\n",
    "plt.title('ADR per month for canceled reservations', fontsize=30)\n",
    "sns.barplot(x='month', y='adr', data=canceled_data)\n",
    "plt.xlabel('Month')\n",
    "plt.ylabel('Average Daily Rate (ADR)')\n",
    "plt.show()"
   ]
  },
  {
   "cell_type": "code",
   "execution_count": null,
   "id": "60784cf3-b117-4178-8726-8c499c9a1dfb",
   "metadata": {},
   "outputs": [],
   "source": [
    "# Get the top 10 countries with the most cancellations\n",
    "top_10_country = canceled_data['country'].value_counts()[:10]\n",
    "\n",
    "# Plot the pie chart\n",
    "plt.figure(figsize=(8, 8))\n",
    "plt.title('Top 10 countries with reservation canceled')\n",
    "plt.pie(top_10_country, autopct='%1.2f%%', labels=top_10_country.index)\n",
    "plt.show()"
   ]
  },
  {
   "cell_type": "code",
   "execution_count": null,
   "id": "16b1b8db-1663-4232-a53c-4e03fbfbca6b",
   "metadata": {},
   "outputs": [],
   "source": [
    "df['market_segment'].value_counts()"
   ]
  },
  {
   "cell_type": "code",
   "execution_count": null,
   "id": "5a4d42bf-0c8c-41f0-86b6-192477abc979",
   "metadata": {},
   "outputs": [],
   "source": [
    "df['market_segment'].value_counts(normalize = True)"
   ]
  },
  {
   "cell_type": "code",
   "execution_count": null,
   "id": "a9c34136-4b0c-4312-b6b7-25f73ff27bdf",
   "metadata": {},
   "outputs": [],
   "source": [
    "# Filter the DataFrame for canceled reservations\n",
    "cancelled_data = df[df['is_canceled'] == 1]\n",
    "\n",
    "# Count the values in the 'market_segment' column, normalized to percentages\n",
    "market_segment_counts = cancelled_data['market_segment'].value_counts(normalize=True)\n",
    "\n",
    "# Print the result\n",
    "print(market_segment_counts)\n"
   ]
  },
  {
   "cell_type": "code",
   "execution_count": null,
   "id": "65628599-f238-4bf3-a557-ff5d97ea51d0",
   "metadata": {},
   "outputs": [],
   "source": [
    "# Calculate the average daily rate (adr) for canceled reservations, grouped by reservation status date\n",
    "cancelled_df_adr = cancelled_data.groupby('reservation_status_date')[['adr']].mean()\n",
    "cancelled_df_adr.reset_index(inplace=True)\n",
    "cancelled_df_adr.sort_values('reservation_status_date', inplace=True)\n",
    "\n",
    "# Calculate the average daily rate (adr) for non-canceled reservations, grouped by reservation status date\n",
    "not_cancelled_data = df[df['is_canceled'] == 0]\n",
    "not_cancelled_df_adr = not_cancelled_data.groupby('reservation_status_date')[['adr']].mean()\n",
    "not_cancelled_df_adr.reset_index(inplace=True)\n",
    "not_cancelled_df_adr.sort_values('reservation_status_date', inplace=True)\n",
    "\n",
    "# Plotting the average daily rate for canceled and non-canceled reservations\n",
    "plt.figure(figsize=(20, 6))\n",
    "plt.title('Average Daily Rate')\n",
    "plt.plot(not_cancelled_df_adr['reservation_status_date'], not_cancelled_df_adr['adr'], label='not canceled')\n",
    "plt.plot(cancelled_df_adr['reservation_status_date'], cancelled_df_adr['adr'], label='canceled')\n",
    "plt.legend()\n",
    "plt.show()\n"
   ]
  },
  {
   "cell_type": "code",
   "execution_count": null,
   "id": "b73a8570-72e9-415c-86a5-309d3a9f531e",
   "metadata": {},
   "outputs": [],
   "source": [
    "#So the above graph is quite messy and the data is inconcistent we neet to make it more concistent."
   ]
  },
  {
   "cell_type": "code",
   "execution_count": null,
   "id": "580a7e29-52e0-42d2-bf0e-7188c7804ffe",
   "metadata": {},
   "outputs": [],
   "source": [
    "# Filter the dataframes for the year range 2016 to 2017.09\n",
    "cancelled_df_adr = cancelled_df_adr[(cancelled_df_adr['reservation_status_date'] > '2016-01-01') & (cancelled_df_adr['reservation_status_date'] < '2017-09-01')]\n",
    "not_cancelled_df_adr = not_cancelled_df_adr[(not_cancelled_df_adr['reservation_status_date'] > '2016-01-01') & (not_cancelled_df_adr['reservation_status_date'] < '2017-09-01')]"
   ]
  },
  {
   "cell_type": "code",
   "execution_count": null,
   "id": "71f9eb33-974e-4bbd-80e2-ebad7a7af35d",
   "metadata": {},
   "outputs": [],
   "source": [
    "# Plotting the average daily rate for canceled and non-canceled reservations within the specified date range\n",
    "plt.figure(figsize=(20, 6))\n",
    "plt.title('Average Daily Rate')\n",
    "plt.plot(not_cancelled_df_adr['reservation_status_date'], not_cancelled_df_adr['adr'], label='not canceled')\n",
    "plt.plot(cancelled_df_adr['reservation_status_date'], cancelled_df_adr['adr'], label='canceled')\n",
    "plt.legend()\n",
    "plt.show()\n"
   ]
  },
  {
   "cell_type": "code",
   "execution_count": null,
   "id": "dcd2069f-2636-403f-bdde-1460bffe3a74",
   "metadata": {},
   "outputs": [],
   "source": []
  }
 ],
 "metadata": {
  "kernelspec": {
   "display_name": "Python 3 (ipykernel)",
   "language": "python",
   "name": "python3"
  },
  "language_info": {
   "codemirror_mode": {
    "name": "ipython",
    "version": 3
   },
   "file_extension": ".py",
   "mimetype": "text/x-python",
   "name": "python",
   "nbconvert_exporter": "python",
   "pygments_lexer": "ipython3",
   "version": "3.12.3"
  }
 },
 "nbformat": 4,
 "nbformat_minor": 5
}
